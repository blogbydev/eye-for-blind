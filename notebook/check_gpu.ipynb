{
 "cells": [
  {
   "cell_type": "code",
   "execution_count": null,
   "id": "6ee276df-10e3-4c9a-914f-19c3e128b74d",
   "metadata": {},
   "outputs": [],
   "source": [
    "import tensorflow as tf\n",
    "\n",
    "print(\"TensorFlow version:\", tf.__version__)\n",
    "print(\"Available physical devices:\", tf.config.list_physical_devices())\n",
    "print(\"GPU devices:\", tf.config.list_physical_devices('GPU'))"
   ]
  },
  {
   "cell_type": "code",
   "execution_count": null,
   "id": "907b6a13-f75f-4aa5-8d6f-5670f0673af7",
   "metadata": {},
   "outputs": [],
   "source": [
    "import tensorflow as tf\n",
    "import time\n",
    "\n",
    "def benchmark(device):\n",
    "    with tf.device(device):\n",
    "        start = time.time()\n",
    "        a = tf.random.normal([10000, 1000])\n",
    "        b = tf.random.normal([1000, 2000])\n",
    "        c = tf.matmul(a, b)\n",
    "        print(f\"{device} time: {time.time() - start:.3f} seconds\")\n",
    "\n",
    "benchmark(\"/CPU:0\")\n",
    "benchmark(\"/GPU:0\")"
   ]
  }
 ],
 "metadata": {
  "kernelspec": {
   "display_name": "Python 3 (ipykernel)",
   "language": "python",
   "name": "python3"
  },
  "language_info": {
   "codemirror_mode": {
    "name": "ipython",
    "version": 3
   },
   "file_extension": ".py",
   "mimetype": "text/x-python",
   "name": "python",
   "nbconvert_exporter": "python",
   "pygments_lexer": "ipython3",
   "version": "3.11.11"
  }
 },
 "nbformat": 4,
 "nbformat_minor": 5
}
